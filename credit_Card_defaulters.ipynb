{
  "nbformat": 4,
  "nbformat_minor": 0,
  "metadata": {
    "colab": {
      "provenance": [],
      "authorship_tag": "ABX9TyOWGtCrnVRjpknLiR2BVLmJ",
      "include_colab_link": true
    },
    "kernelspec": {
      "name": "python3",
      "display_name": "Python 3"
    },
    "language_info": {
      "name": "python"
    }
  },
  "cells": [
    {
      "cell_type": "markdown",
      "metadata": {
        "id": "view-in-github",
        "colab_type": "text"
      },
      "source": [
        "<a href=\"https://colab.research.google.com/github/krishnan5307/PySpark_credit_Card_defaulters_/blob/main/credit_Card_defaulters.ipynb\" target=\"_parent\"><img src=\"https://colab.research.google.com/assets/colab-badge.svg\" alt=\"Open In Colab\"/></a>"
      ]
    },
    {
      "cell_type": "code",
      "source": [
        "!pip install pyspark"
      ],
      "metadata": {
        "colab": {
          "base_uri": "https://localhost:8080/"
        },
        "id": "GFAw70YTMp3I",
        "outputId": "b7614fd4-3131-4c60-f46b-cedb4857ac22"
      },
      "execution_count": null,
      "outputs": [
        {
          "output_type": "stream",
          "name": "stdout",
          "text": [
            "Collecting pyspark\n",
            "  Downloading pyspark-3.5.0.tar.gz (316.9 MB)\n",
            "\u001b[2K     \u001b[90m━━━━━━━━━━━━━━━━━━━━━━━━━━━━━━━━━━━━━━━━\u001b[0m \u001b[32m316.9/316.9 MB\u001b[0m \u001b[31m3.2 MB/s\u001b[0m eta \u001b[36m0:00:00\u001b[0m\n",
            "\u001b[?25h  Preparing metadata (setup.py) ... \u001b[?25l\u001b[?25hdone\n",
            "Requirement already satisfied: py4j==0.10.9.7 in /usr/local/lib/python3.10/dist-packages (from pyspark) (0.10.9.7)\n",
            "Building wheels for collected packages: pyspark\n",
            "  Building wheel for pyspark (setup.py) ... \u001b[?25l\u001b[?25hdone\n",
            "  Created wheel for pyspark: filename=pyspark-3.5.0-py2.py3-none-any.whl size=317425345 sha256=76828cf1574712ddcf545184c2f8b2ea6ec2d0ec51207fce34cda8e30e9809f9\n",
            "  Stored in directory: /root/.cache/pip/wheels/41/4e/10/c2cf2467f71c678cfc8a6b9ac9241e5e44a01940da8fbb17fc\n",
            "Successfully built pyspark\n",
            "Installing collected packages: pyspark\n",
            "Successfully installed pyspark-3.5.0\n"
          ]
        }
      ]
    },
    {
      "cell_type": "code",
      "source": [
        "from google.colab import drive\n",
        "drive.mount('/content/drive')"
      ],
      "metadata": {
        "colab": {
          "base_uri": "https://localhost:8080/"
        },
        "id": "BpKhnuGjMxkM",
        "outputId": "a758b767-6bfc-4e92-fb71-96541379d866"
      },
      "execution_count": null,
      "outputs": [
        {
          "output_type": "stream",
          "name": "stdout",
          "text": [
            "Mounted at /content/drive\n"
          ]
        }
      ]
    },
    {
      "cell_type": "code",
      "source": [
        "from pyspark.sql import SparkSession"
      ],
      "metadata": {
        "id": "J8Xp3NxNOgDd"
      },
      "execution_count": null,
      "outputs": []
    },
    {
      "cell_type": "code",
      "source": [
        "spark = SparkSession.builder.getOrCreate()"
      ],
      "metadata": {
        "id": "d-aEz-B8Nq0W"
      },
      "execution_count": null,
      "outputs": []
    },
    {
      "cell_type": "code",
      "source": [
        "df = spark.read.csv(\"/content/drive/MyDrive/Machine Learning/UCI_Credit_Card.csv\",header=True)"
      ],
      "metadata": {
        "id": "xyQatorwOa6_"
      },
      "execution_count": null,
      "outputs": []
    },
    {
      "cell_type": "code",
      "source": [
        "df.head(5)"
      ],
      "metadata": {
        "colab": {
          "base_uri": "https://localhost:8080/"
        },
        "id": "427ZuB28O-R_",
        "outputId": "c961f1ab-e956-40e1-d1a6-d11efd9388e7"
      },
      "execution_count": null,
      "outputs": [
        {
          "output_type": "execute_result",
          "data": {
            "text/plain": [
              "[Row(ID='1', LIMIT_BAL='20000', SEX='2', EDUCATION='2', MARRIAGE='1', AGE='24', PAY_0='2', PAY_2='2', PAY_3='-1', PAY_4='-1', PAY_5='-2', PAY_6='-2', BILL_AMT1='3913', BILL_AMT2='3102', BILL_AMT3='689', BILL_AMT4='0', BILL_AMT5='0', BILL_AMT6='0', PAY_AMT1='0', PAY_AMT2='689', PAY_AMT3='0', PAY_AMT4='0', PAY_AMT5='0', PAY_AMT6='0', default.payment.next.month='1'),\n",
              " Row(ID='2', LIMIT_BAL='120000', SEX='2', EDUCATION='2', MARRIAGE='2', AGE='26', PAY_0='-1', PAY_2='2', PAY_3='0', PAY_4='0', PAY_5='0', PAY_6='2', BILL_AMT1='2682', BILL_AMT2='1725', BILL_AMT3='2682', BILL_AMT4='3272', BILL_AMT5='3455', BILL_AMT6='3261', PAY_AMT1='0', PAY_AMT2='1000', PAY_AMT3='1000', PAY_AMT4='1000', PAY_AMT5='0', PAY_AMT6='2000', default.payment.next.month='1'),\n",
              " Row(ID='3', LIMIT_BAL='90000', SEX='2', EDUCATION='2', MARRIAGE='2', AGE='34', PAY_0='0', PAY_2='0', PAY_3='0', PAY_4='0', PAY_5='0', PAY_6='0', BILL_AMT1='29239', BILL_AMT2='14027', BILL_AMT3='13559', BILL_AMT4='14331', BILL_AMT5='14948', BILL_AMT6='15549', PAY_AMT1='1518', PAY_AMT2='1500', PAY_AMT3='1000', PAY_AMT4='1000', PAY_AMT5='1000', PAY_AMT6='5000', default.payment.next.month='0'),\n",
              " Row(ID='4', LIMIT_BAL='50000', SEX='2', EDUCATION='2', MARRIAGE='1', AGE='37', PAY_0='0', PAY_2='0', PAY_3='0', PAY_4='0', PAY_5='0', PAY_6='0', BILL_AMT1='46990', BILL_AMT2='48233', BILL_AMT3='49291', BILL_AMT4='28314', BILL_AMT5='28959', BILL_AMT6='29547', PAY_AMT1='2000', PAY_AMT2='2019', PAY_AMT3='1200', PAY_AMT4='1100', PAY_AMT5='1069', PAY_AMT6='1000', default.payment.next.month='0'),\n",
              " Row(ID='5', LIMIT_BAL='50000', SEX='1', EDUCATION='2', MARRIAGE='1', AGE='57', PAY_0='-1', PAY_2='0', PAY_3='-1', PAY_4='0', PAY_5='0', PAY_6='0', BILL_AMT1='8617', BILL_AMT2='5670', BILL_AMT3='35835', BILL_AMT4='20940', BILL_AMT5='19146', BILL_AMT6='19131', PAY_AMT1='2000', PAY_AMT2='36681', PAY_AMT3='10000', PAY_AMT4='9000', PAY_AMT5='689', PAY_AMT6='679', default.payment.next.month='0')]"
            ]
          },
          "metadata": {},
          "execution_count": 6
        }
      ]
    },
    {
      "cell_type": "code",
      "source": [
        "len(df.columns)"
      ],
      "metadata": {
        "colab": {
          "base_uri": "https://localhost:8080/"
        },
        "id": "XfnUsCSbPByw",
        "outputId": "e016a5e8-0a86-4ba3-f990-b1a7f4fdce4d"
      },
      "execution_count": null,
      "outputs": [
        {
          "output_type": "execute_result",
          "data": {
            "text/plain": [
              "25"
            ]
          },
          "metadata": {},
          "execution_count": 7
        }
      ]
    },
    {
      "cell_type": "code",
      "source": [
        "df.count()"
      ],
      "metadata": {
        "colab": {
          "base_uri": "https://localhost:8080/"
        },
        "id": "LjiaWeIhPQL3",
        "outputId": "e6677e14-356a-49bb-88e1-dd8a64f97a6e"
      },
      "execution_count": null,
      "outputs": [
        {
          "output_type": "execute_result",
          "data": {
            "text/plain": [
              "30000"
            ]
          },
          "metadata": {},
          "execution_count": 8
        }
      ]
    },
    {
      "cell_type": "code",
      "source": [
        "df.printSchema"
      ],
      "metadata": {
        "colab": {
          "base_uri": "https://localhost:8080/"
        },
        "id": "TlbRVM1APrjL",
        "outputId": "2528062a-e322-4dca-b43f-af6a9cd1d3b9"
      },
      "execution_count": null,
      "outputs": [
        {
          "output_type": "execute_result",
          "data": {
            "text/plain": [
              "<bound method DataFrame.printSchema of DataFrame[ID: string, LIMIT_BAL: string, SEX: string, EDUCATION: string, MARRIAGE: string, AGE: string, PAY_0: string, PAY_2: string, PAY_3: string, PAY_4: string, PAY_5: string, PAY_6: string, BILL_AMT1: string, BILL_AMT2: string, BILL_AMT3: string, BILL_AMT4: string, BILL_AMT5: string, BILL_AMT6: string, PAY_AMT1: string, PAY_AMT2: string, PAY_AMT3: string, PAY_AMT4: string, PAY_AMT5: string, PAY_AMT6: string, default.payment.next.month: string]>"
            ]
          },
          "metadata": {},
          "execution_count": 9
        }
      ]
    },
    {
      "cell_type": "markdown",
      "source": [
        "since all is string and we need to typecast, so we check with pandas for the datatype"
      ],
      "metadata": {
        "id": "NsJJmR7wRRzQ"
      }
    },
    {
      "cell_type": "code",
      "source": [
        "import pandas as pd"
      ],
      "metadata": {
        "id": "prHDL3afQleT"
      },
      "execution_count": null,
      "outputs": []
    },
    {
      "cell_type": "code",
      "source": [
        "df =pd.read_csv(\"/content/drive/MyDrive/Machine Learning/UCI_Credit_Card.csv\")"
      ],
      "metadata": {
        "id": "NYhqVeLhQ0Ba"
      },
      "execution_count": null,
      "outputs": []
    },
    {
      "cell_type": "code",
      "source": [
        "\n",
        "df.head(5)"
      ],
      "metadata": {
        "colab": {
          "base_uri": "https://localhost:8080/",
          "height": 255
        },
        "id": "oAv6McarQ4lW",
        "outputId": "65b93b82-5b89-4c1f-9e0e-fda05662b8ce"
      },
      "execution_count": null,
      "outputs": [
        {
          "output_type": "execute_result",
          "data": {
            "text/plain": [
              "   ID  LIMIT_BAL  SEX  EDUCATION  MARRIAGE  AGE  PAY_0  PAY_2  PAY_3  PAY_4  \\\n",
              "0   1    20000.0    2          2         1   24      2      2     -1     -1   \n",
              "1   2   120000.0    2          2         2   26     -1      2      0      0   \n",
              "2   3    90000.0    2          2         2   34      0      0      0      0   \n",
              "3   4    50000.0    2          2         1   37      0      0      0      0   \n",
              "4   5    50000.0    1          2         1   57     -1      0     -1      0   \n",
              "\n",
              "   ...  BILL_AMT4  BILL_AMT5  BILL_AMT6  PAY_AMT1  PAY_AMT2  PAY_AMT3  \\\n",
              "0  ...        0.0        0.0        0.0       0.0     689.0       0.0   \n",
              "1  ...     3272.0     3455.0     3261.0       0.0    1000.0    1000.0   \n",
              "2  ...    14331.0    14948.0    15549.0    1518.0    1500.0    1000.0   \n",
              "3  ...    28314.0    28959.0    29547.0    2000.0    2019.0    1200.0   \n",
              "4  ...    20940.0    19146.0    19131.0    2000.0   36681.0   10000.0   \n",
              "\n",
              "   PAY_AMT4  PAY_AMT5  PAY_AMT6  default.payment.next.month  \n",
              "0       0.0       0.0       0.0                           1  \n",
              "1    1000.0       0.0    2000.0                           1  \n",
              "2    1000.0    1000.0    5000.0                           0  \n",
              "3    1100.0    1069.0    1000.0                           0  \n",
              "4    9000.0     689.0     679.0                           0  \n",
              "\n",
              "[5 rows x 25 columns]"
            ],
            "text/html": [
              "\n",
              "  <div id=\"df-ba2087d4-fdf6-4c88-801c-481f82e4ecde\" class=\"colab-df-container\">\n",
              "    <div>\n",
              "<style scoped>\n",
              "    .dataframe tbody tr th:only-of-type {\n",
              "        vertical-align: middle;\n",
              "    }\n",
              "\n",
              "    .dataframe tbody tr th {\n",
              "        vertical-align: top;\n",
              "    }\n",
              "\n",
              "    .dataframe thead th {\n",
              "        text-align: right;\n",
              "    }\n",
              "</style>\n",
              "<table border=\"1\" class=\"dataframe\">\n",
              "  <thead>\n",
              "    <tr style=\"text-align: right;\">\n",
              "      <th></th>\n",
              "      <th>ID</th>\n",
              "      <th>LIMIT_BAL</th>\n",
              "      <th>SEX</th>\n",
              "      <th>EDUCATION</th>\n",
              "      <th>MARRIAGE</th>\n",
              "      <th>AGE</th>\n",
              "      <th>PAY_0</th>\n",
              "      <th>PAY_2</th>\n",
              "      <th>PAY_3</th>\n",
              "      <th>PAY_4</th>\n",
              "      <th>...</th>\n",
              "      <th>BILL_AMT4</th>\n",
              "      <th>BILL_AMT5</th>\n",
              "      <th>BILL_AMT6</th>\n",
              "      <th>PAY_AMT1</th>\n",
              "      <th>PAY_AMT2</th>\n",
              "      <th>PAY_AMT3</th>\n",
              "      <th>PAY_AMT4</th>\n",
              "      <th>PAY_AMT5</th>\n",
              "      <th>PAY_AMT6</th>\n",
              "      <th>default.payment.next.month</th>\n",
              "    </tr>\n",
              "  </thead>\n",
              "  <tbody>\n",
              "    <tr>\n",
              "      <th>0</th>\n",
              "      <td>1</td>\n",
              "      <td>20000.0</td>\n",
              "      <td>2</td>\n",
              "      <td>2</td>\n",
              "      <td>1</td>\n",
              "      <td>24</td>\n",
              "      <td>2</td>\n",
              "      <td>2</td>\n",
              "      <td>-1</td>\n",
              "      <td>-1</td>\n",
              "      <td>...</td>\n",
              "      <td>0.0</td>\n",
              "      <td>0.0</td>\n",
              "      <td>0.0</td>\n",
              "      <td>0.0</td>\n",
              "      <td>689.0</td>\n",
              "      <td>0.0</td>\n",
              "      <td>0.0</td>\n",
              "      <td>0.0</td>\n",
              "      <td>0.0</td>\n",
              "      <td>1</td>\n",
              "    </tr>\n",
              "    <tr>\n",
              "      <th>1</th>\n",
              "      <td>2</td>\n",
              "      <td>120000.0</td>\n",
              "      <td>2</td>\n",
              "      <td>2</td>\n",
              "      <td>2</td>\n",
              "      <td>26</td>\n",
              "      <td>-1</td>\n",
              "      <td>2</td>\n",
              "      <td>0</td>\n",
              "      <td>0</td>\n",
              "      <td>...</td>\n",
              "      <td>3272.0</td>\n",
              "      <td>3455.0</td>\n",
              "      <td>3261.0</td>\n",
              "      <td>0.0</td>\n",
              "      <td>1000.0</td>\n",
              "      <td>1000.0</td>\n",
              "      <td>1000.0</td>\n",
              "      <td>0.0</td>\n",
              "      <td>2000.0</td>\n",
              "      <td>1</td>\n",
              "    </tr>\n",
              "    <tr>\n",
              "      <th>2</th>\n",
              "      <td>3</td>\n",
              "      <td>90000.0</td>\n",
              "      <td>2</td>\n",
              "      <td>2</td>\n",
              "      <td>2</td>\n",
              "      <td>34</td>\n",
              "      <td>0</td>\n",
              "      <td>0</td>\n",
              "      <td>0</td>\n",
              "      <td>0</td>\n",
              "      <td>...</td>\n",
              "      <td>14331.0</td>\n",
              "      <td>14948.0</td>\n",
              "      <td>15549.0</td>\n",
              "      <td>1518.0</td>\n",
              "      <td>1500.0</td>\n",
              "      <td>1000.0</td>\n",
              "      <td>1000.0</td>\n",
              "      <td>1000.0</td>\n",
              "      <td>5000.0</td>\n",
              "      <td>0</td>\n",
              "    </tr>\n",
              "    <tr>\n",
              "      <th>3</th>\n",
              "      <td>4</td>\n",
              "      <td>50000.0</td>\n",
              "      <td>2</td>\n",
              "      <td>2</td>\n",
              "      <td>1</td>\n",
              "      <td>37</td>\n",
              "      <td>0</td>\n",
              "      <td>0</td>\n",
              "      <td>0</td>\n",
              "      <td>0</td>\n",
              "      <td>...</td>\n",
              "      <td>28314.0</td>\n",
              "      <td>28959.0</td>\n",
              "      <td>29547.0</td>\n",
              "      <td>2000.0</td>\n",
              "      <td>2019.0</td>\n",
              "      <td>1200.0</td>\n",
              "      <td>1100.0</td>\n",
              "      <td>1069.0</td>\n",
              "      <td>1000.0</td>\n",
              "      <td>0</td>\n",
              "    </tr>\n",
              "    <tr>\n",
              "      <th>4</th>\n",
              "      <td>5</td>\n",
              "      <td>50000.0</td>\n",
              "      <td>1</td>\n",
              "      <td>2</td>\n",
              "      <td>1</td>\n",
              "      <td>57</td>\n",
              "      <td>-1</td>\n",
              "      <td>0</td>\n",
              "      <td>-1</td>\n",
              "      <td>0</td>\n",
              "      <td>...</td>\n",
              "      <td>20940.0</td>\n",
              "      <td>19146.0</td>\n",
              "      <td>19131.0</td>\n",
              "      <td>2000.0</td>\n",
              "      <td>36681.0</td>\n",
              "      <td>10000.0</td>\n",
              "      <td>9000.0</td>\n",
              "      <td>689.0</td>\n",
              "      <td>679.0</td>\n",
              "      <td>0</td>\n",
              "    </tr>\n",
              "  </tbody>\n",
              "</table>\n",
              "<p>5 rows × 25 columns</p>\n",
              "</div>\n",
              "    <div class=\"colab-df-buttons\">\n",
              "\n",
              "  <div class=\"colab-df-container\">\n",
              "    <button class=\"colab-df-convert\" onclick=\"convertToInteractive('df-ba2087d4-fdf6-4c88-801c-481f82e4ecde')\"\n",
              "            title=\"Convert this dataframe to an interactive table.\"\n",
              "            style=\"display:none;\">\n",
              "\n",
              "  <svg xmlns=\"http://www.w3.org/2000/svg\" height=\"24px\" viewBox=\"0 -960 960 960\">\n",
              "    <path d=\"M120-120v-720h720v720H120Zm60-500h600v-160H180v160Zm220 220h160v-160H400v160Zm0 220h160v-160H400v160ZM180-400h160v-160H180v160Zm440 0h160v-160H620v160ZM180-180h160v-160H180v160Zm440 0h160v-160H620v160Z\"/>\n",
              "  </svg>\n",
              "    </button>\n",
              "\n",
              "  <style>\n",
              "    .colab-df-container {\n",
              "      display:flex;\n",
              "      gap: 12px;\n",
              "    }\n",
              "\n",
              "    .colab-df-convert {\n",
              "      background-color: #E8F0FE;\n",
              "      border: none;\n",
              "      border-radius: 50%;\n",
              "      cursor: pointer;\n",
              "      display: none;\n",
              "      fill: #1967D2;\n",
              "      height: 32px;\n",
              "      padding: 0 0 0 0;\n",
              "      width: 32px;\n",
              "    }\n",
              "\n",
              "    .colab-df-convert:hover {\n",
              "      background-color: #E2EBFA;\n",
              "      box-shadow: 0px 1px 2px rgba(60, 64, 67, 0.3), 0px 1px 3px 1px rgba(60, 64, 67, 0.15);\n",
              "      fill: #174EA6;\n",
              "    }\n",
              "\n",
              "    .colab-df-buttons div {\n",
              "      margin-bottom: 4px;\n",
              "    }\n",
              "\n",
              "    [theme=dark] .colab-df-convert {\n",
              "      background-color: #3B4455;\n",
              "      fill: #D2E3FC;\n",
              "    }\n",
              "\n",
              "    [theme=dark] .colab-df-convert:hover {\n",
              "      background-color: #434B5C;\n",
              "      box-shadow: 0px 1px 3px 1px rgba(0, 0, 0, 0.15);\n",
              "      filter: drop-shadow(0px 1px 2px rgba(0, 0, 0, 0.3));\n",
              "      fill: #FFFFFF;\n",
              "    }\n",
              "  </style>\n",
              "\n",
              "    <script>\n",
              "      const buttonEl =\n",
              "        document.querySelector('#df-ba2087d4-fdf6-4c88-801c-481f82e4ecde button.colab-df-convert');\n",
              "      buttonEl.style.display =\n",
              "        google.colab.kernel.accessAllowed ? 'block' : 'none';\n",
              "\n",
              "      async function convertToInteractive(key) {\n",
              "        const element = document.querySelector('#df-ba2087d4-fdf6-4c88-801c-481f82e4ecde');\n",
              "        const dataTable =\n",
              "          await google.colab.kernel.invokeFunction('convertToInteractive',\n",
              "                                                    [key], {});\n",
              "        if (!dataTable) return;\n",
              "\n",
              "        const docLinkHtml = 'Like what you see? Visit the ' +\n",
              "          '<a target=\"_blank\" href=https://colab.research.google.com/notebooks/data_table.ipynb>data table notebook</a>'\n",
              "          + ' to learn more about interactive tables.';\n",
              "        element.innerHTML = '';\n",
              "        dataTable['output_type'] = 'display_data';\n",
              "        await google.colab.output.renderOutput(dataTable, element);\n",
              "        const docLink = document.createElement('div');\n",
              "        docLink.innerHTML = docLinkHtml;\n",
              "        element.appendChild(docLink);\n",
              "      }\n",
              "    </script>\n",
              "  </div>\n",
              "\n",
              "\n",
              "<div id=\"df-7864c29f-c4c4-4c3d-9c6e-35798b96cb32\">\n",
              "  <button class=\"colab-df-quickchart\" onclick=\"quickchart('df-7864c29f-c4c4-4c3d-9c6e-35798b96cb32')\"\n",
              "            title=\"Suggest charts\"\n",
              "            style=\"display:none;\">\n",
              "\n",
              "<svg xmlns=\"http://www.w3.org/2000/svg\" height=\"24px\"viewBox=\"0 0 24 24\"\n",
              "     width=\"24px\">\n",
              "    <g>\n",
              "        <path d=\"M19 3H5c-1.1 0-2 .9-2 2v14c0 1.1.9 2 2 2h14c1.1 0 2-.9 2-2V5c0-1.1-.9-2-2-2zM9 17H7v-7h2v7zm4 0h-2V7h2v10zm4 0h-2v-4h2v4z\"/>\n",
              "    </g>\n",
              "</svg>\n",
              "  </button>\n",
              "\n",
              "<style>\n",
              "  .colab-df-quickchart {\n",
              "      --bg-color: #E8F0FE;\n",
              "      --fill-color: #1967D2;\n",
              "      --hover-bg-color: #E2EBFA;\n",
              "      --hover-fill-color: #174EA6;\n",
              "      --disabled-fill-color: #AAA;\n",
              "      --disabled-bg-color: #DDD;\n",
              "  }\n",
              "\n",
              "  [theme=dark] .colab-df-quickchart {\n",
              "      --bg-color: #3B4455;\n",
              "      --fill-color: #D2E3FC;\n",
              "      --hover-bg-color: #434B5C;\n",
              "      --hover-fill-color: #FFFFFF;\n",
              "      --disabled-bg-color: #3B4455;\n",
              "      --disabled-fill-color: #666;\n",
              "  }\n",
              "\n",
              "  .colab-df-quickchart {\n",
              "    background-color: var(--bg-color);\n",
              "    border: none;\n",
              "    border-radius: 50%;\n",
              "    cursor: pointer;\n",
              "    display: none;\n",
              "    fill: var(--fill-color);\n",
              "    height: 32px;\n",
              "    padding: 0;\n",
              "    width: 32px;\n",
              "  }\n",
              "\n",
              "  .colab-df-quickchart:hover {\n",
              "    background-color: var(--hover-bg-color);\n",
              "    box-shadow: 0 1px 2px rgba(60, 64, 67, 0.3), 0 1px 3px 1px rgba(60, 64, 67, 0.15);\n",
              "    fill: var(--button-hover-fill-color);\n",
              "  }\n",
              "\n",
              "  .colab-df-quickchart-complete:disabled,\n",
              "  .colab-df-quickchart-complete:disabled:hover {\n",
              "    background-color: var(--disabled-bg-color);\n",
              "    fill: var(--disabled-fill-color);\n",
              "    box-shadow: none;\n",
              "  }\n",
              "\n",
              "  .colab-df-spinner {\n",
              "    border: 2px solid var(--fill-color);\n",
              "    border-color: transparent;\n",
              "    border-bottom-color: var(--fill-color);\n",
              "    animation:\n",
              "      spin 1s steps(1) infinite;\n",
              "  }\n",
              "\n",
              "  @keyframes spin {\n",
              "    0% {\n",
              "      border-color: transparent;\n",
              "      border-bottom-color: var(--fill-color);\n",
              "      border-left-color: var(--fill-color);\n",
              "    }\n",
              "    20% {\n",
              "      border-color: transparent;\n",
              "      border-left-color: var(--fill-color);\n",
              "      border-top-color: var(--fill-color);\n",
              "    }\n",
              "    30% {\n",
              "      border-color: transparent;\n",
              "      border-left-color: var(--fill-color);\n",
              "      border-top-color: var(--fill-color);\n",
              "      border-right-color: var(--fill-color);\n",
              "    }\n",
              "    40% {\n",
              "      border-color: transparent;\n",
              "      border-right-color: var(--fill-color);\n",
              "      border-top-color: var(--fill-color);\n",
              "    }\n",
              "    60% {\n",
              "      border-color: transparent;\n",
              "      border-right-color: var(--fill-color);\n",
              "    }\n",
              "    80% {\n",
              "      border-color: transparent;\n",
              "      border-right-color: var(--fill-color);\n",
              "      border-bottom-color: var(--fill-color);\n",
              "    }\n",
              "    90% {\n",
              "      border-color: transparent;\n",
              "      border-bottom-color: var(--fill-color);\n",
              "    }\n",
              "  }\n",
              "</style>\n",
              "\n",
              "  <script>\n",
              "    async function quickchart(key) {\n",
              "      const quickchartButtonEl =\n",
              "        document.querySelector('#' + key + ' button');\n",
              "      quickchartButtonEl.disabled = true;  // To prevent multiple clicks.\n",
              "      quickchartButtonEl.classList.add('colab-df-spinner');\n",
              "      try {\n",
              "        const charts = await google.colab.kernel.invokeFunction(\n",
              "            'suggestCharts', [key], {});\n",
              "      } catch (error) {\n",
              "        console.error('Error during call to suggestCharts:', error);\n",
              "      }\n",
              "      quickchartButtonEl.classList.remove('colab-df-spinner');\n",
              "      quickchartButtonEl.classList.add('colab-df-quickchart-complete');\n",
              "    }\n",
              "    (() => {\n",
              "      let quickchartButtonEl =\n",
              "        document.querySelector('#df-7864c29f-c4c4-4c3d-9c6e-35798b96cb32 button');\n",
              "      quickchartButtonEl.style.display =\n",
              "        google.colab.kernel.accessAllowed ? 'block' : 'none';\n",
              "    })();\n",
              "  </script>\n",
              "</div>\n",
              "\n",
              "    </div>\n",
              "  </div>\n"
            ]
          },
          "metadata": {},
          "execution_count": 12
        }
      ]
    },
    {
      "cell_type": "code",
      "source": [
        "\n",
        "df.info()"
      ],
      "metadata": {
        "colab": {
          "base_uri": "https://localhost:8080/"
        },
        "id": "OarOL80mREBg",
        "outputId": "0e21bdc9-b143-433d-90b1-3a96df008002"
      },
      "execution_count": null,
      "outputs": [
        {
          "output_type": "stream",
          "name": "stdout",
          "text": [
            "<class 'pandas.core.frame.DataFrame'>\n",
            "RangeIndex: 30000 entries, 0 to 29999\n",
            "Data columns (total 25 columns):\n",
            " #   Column                      Non-Null Count  Dtype  \n",
            "---  ------                      --------------  -----  \n",
            " 0   ID                          30000 non-null  int64  \n",
            " 1   LIMIT_BAL                   30000 non-null  float64\n",
            " 2   SEX                         30000 non-null  int64  \n",
            " 3   EDUCATION                   30000 non-null  int64  \n",
            " 4   MARRIAGE                    30000 non-null  int64  \n",
            " 5   AGE                         30000 non-null  int64  \n",
            " 6   PAY_0                       30000 non-null  int64  \n",
            " 7   PAY_2                       30000 non-null  int64  \n",
            " 8   PAY_3                       30000 non-null  int64  \n",
            " 9   PAY_4                       30000 non-null  int64  \n",
            " 10  PAY_5                       30000 non-null  int64  \n",
            " 11  PAY_6                       30000 non-null  int64  \n",
            " 12  BILL_AMT1                   30000 non-null  float64\n",
            " 13  BILL_AMT2                   30000 non-null  float64\n",
            " 14  BILL_AMT3                   30000 non-null  float64\n",
            " 15  BILL_AMT4                   30000 non-null  float64\n",
            " 16  BILL_AMT5                   30000 non-null  float64\n",
            " 17  BILL_AMT6                   30000 non-null  float64\n",
            " 18  PAY_AMT1                    30000 non-null  float64\n",
            " 19  PAY_AMT2                    30000 non-null  float64\n",
            " 20  PAY_AMT3                    30000 non-null  float64\n",
            " 21  PAY_AMT4                    30000 non-null  float64\n",
            " 22  PAY_AMT5                    30000 non-null  float64\n",
            " 23  PAY_AMT6                    30000 non-null  float64\n",
            " 24  default.payment.next.month  30000 non-null  int64  \n",
            "dtypes: float64(13), int64(12)\n",
            "memory usage: 5.7 MB\n"
          ]
        }
      ]
    },
    {
      "cell_type": "code",
      "source": [
        "from pyspark.sql import SparkSession\n",
        "from pyspark.ml.feature import VectorAssembler\n",
        "from pyspark.ml.classification import DecisionTreeClassifier, RandomForestClassifier\n",
        "from pyspark.ml.regression import DecisionTreeRegressor, RandomForestRegressor, GBTRegressor\n",
        "from pyspark.ml.evaluation import RegressionEvaluator\n",
        "from pyspark.ml.tuning import ParamGridBuilder, TrainValidationSplit\n",
        "from pyspark.ml import Pipeline\n",
        "from pyspark.ml.feature import StandardScaler\n",
        "from pyspark.ml.evaluation import MulticlassClassificationEvaluator\n",
        "from pyspark.ml.feature import StringIndexer\n",
        "from pyspark.sql.types import StringType, IntegerType\n",
        "from pyspark.sql.types import StructType, StructField, StringType, IntegerType, FloatType, DoubleType\n",
        "from pyspark.sql.functions import col, count, isnan, when\n",
        "from pyspark.mllib.evaluation import BinaryClassificationMetrics\n",
        "from pyspark.mllib.evaluation import MulticlassMetrics\n",
        "from pyspark.ml.evaluation import BinaryClassificationEvaluator\n",
        "from pyspark.mllib.evaluation import BinaryClassificationMetrics, MulticlassMetrics\n"
      ],
      "metadata": {
        "id": "Jc7a4QMWWLEt"
      },
      "execution_count": null,
      "outputs": []
    },
    {
      "cell_type": "code",
      "source": [
        "# Define the schema (typecasting\n",
        "schema = StructType([\n",
        "\n",
        "StructField(\"ID\"        ,  IntegerType(), nullable=False),\n",
        "StructField(\"LIMIT_BAL\" ,  FloatType(),   nullable=False),\n",
        "StructField(\"SEX\"       ,  IntegerType(), nullable=False),\n",
        "StructField(\"EDUCATION\" ,  IntegerType(), nullable=False),\n",
        "StructField(\"MARRIAGE\"  ,  IntegerType(), nullable=False),\n",
        "StructField(\"AGE\"       ,  IntegerType(), nullable=False),\n",
        "StructField(\"PAY_0\"     ,  IntegerType(), nullable=False),\n",
        "StructField(\"PAY_2\"     ,  IntegerType(), nullable=False),\n",
        "StructField(\"PAY_3\"     ,  IntegerType(), nullable=False),\n",
        "StructField(\"PAY_4\"     ,  IntegerType(), nullable=False),\n",
        "StructField(\"PAY_5\"     ,  IntegerType(), nullable=False),\n",
        "StructField(\"PAY_6\"     ,  IntegerType(), nullable=False),\n",
        "StructField(\"BILL_AMT1\" ,  FloatType(),   nullable=False),\n",
        "StructField(\"BILL_AMT2\" ,  FloatType(),   nullable=False),\n",
        "StructField(\"BILL_AMT3\" ,  FloatType(),   nullable=False),\n",
        "StructField(\"BILL_AMT4\" ,  FloatType(),   nullable=False),\n",
        "StructField(\"BILL_AMT5\" ,  FloatType(),   nullable=False),\n",
        "StructField(\"BILL_AMT6\" ,  FloatType(),   nullable=False),\n",
        "StructField(\"PAY_AMT1\"  ,  FloatType(),   nullable=False),\n",
        "StructField(\"PAY_AMT2\"  ,  FloatType(),   nullable=False),\n",
        "StructField(\"PAY_AMT3\"  ,  FloatType(),   nullable=False),\n",
        "StructField(\"PAY_AMT4\"  ,  FloatType(),   nullable=False),\n",
        "StructField(\"PAY_AMT5\"  ,  FloatType(),   nullable=False),\n",
        "StructField(\"PAY_AMT6\"  ,  FloatType(),   nullable=False),\n",
        "StructField(\"default.payment.next.month\", IntegerType(), nullable=False)\n",
        "\n",
        "])\n"
      ],
      "metadata": {
        "id": "8QMBn06oRI4q"
      },
      "execution_count": null,
      "outputs": []
    },
    {
      "cell_type": "code",
      "source": [
        "df = spark.read.csv(\"/content/drive/MyDrive/Machine Learning/UCI_Credit_Card.csv\",header=True, schema= schema)"
      ],
      "metadata": {
        "id": "sihsCK8QWTMB"
      },
      "execution_count": null,
      "outputs": []
    },
    {
      "cell_type": "code",
      "source": [
        "df.printSchema"
      ],
      "metadata": {
        "colab": {
          "base_uri": "https://localhost:8080/"
        },
        "id": "tNTeH2wJW4V5",
        "outputId": "202f1d39-bf9b-48af-ddc8-b333b13cdfac"
      },
      "execution_count": null,
      "outputs": [
        {
          "output_type": "execute_result",
          "data": {
            "text/plain": [
              "<bound method DataFrame.printSchema of DataFrame[ID: int, LIMIT_BAL: float, SEX: int, EDUCATION: int, MARRIAGE: int, AGE: int, PAY_0: int, PAY_2: int, PAY_3: int, PAY_4: int, PAY_5: int, PAY_6: int, BILL_AMT1: float, BILL_AMT2: float, BILL_AMT3: float, BILL_AMT4: float, BILL_AMT5: float, BILL_AMT6: float, PAY_AMT1: float, PAY_AMT2: float, PAY_AMT3: float, PAY_AMT4: float, PAY_AMT5: float, PAY_AMT6: float, default.payment.next.month: int]>"
            ]
          },
          "metadata": {},
          "execution_count": 18
        }
      ]
    },
    {
      "cell_type": "code",
      "source": [
        "df.show()"
      ],
      "metadata": {
        "colab": {
          "base_uri": "https://localhost:8080/"
        },
        "id": "-7A7MKYnW7Q0",
        "outputId": "6a7994f3-1aad-4f0c-a610-f0ddc77b8fd9"
      },
      "execution_count": null,
      "outputs": [
        {
          "output_type": "stream",
          "name": "stdout",
          "text": [
            "+---+---------+---+---------+--------+---+-----+-----+-----+-----+-----+-----+---------+---------+---------+---------+---------+---------+--------+--------+--------+--------+--------+--------+--------------------------+\n",
            "| ID|LIMIT_BAL|SEX|EDUCATION|MARRIAGE|AGE|PAY_0|PAY_2|PAY_3|PAY_4|PAY_5|PAY_6|BILL_AMT1|BILL_AMT2|BILL_AMT3|BILL_AMT4|BILL_AMT5|BILL_AMT6|PAY_AMT1|PAY_AMT2|PAY_AMT3|PAY_AMT4|PAY_AMT5|PAY_AMT6|default.payment.next.month|\n",
            "+---+---------+---+---------+--------+---+-----+-----+-----+-----+-----+-----+---------+---------+---------+---------+---------+---------+--------+--------+--------+--------+--------+--------+--------------------------+\n",
            "|  1|  20000.0|  2|        2|       1| 24|    2|    2|   -1|   -1|   -2|   -2|   3913.0|   3102.0|    689.0|      0.0|      0.0|      0.0|     0.0|   689.0|     0.0|     0.0|     0.0|     0.0|                         1|\n",
            "|  2| 120000.0|  2|        2|       2| 26|   -1|    2|    0|    0|    0|    2|   2682.0|   1725.0|   2682.0|   3272.0|   3455.0|   3261.0|     0.0|  1000.0|  1000.0|  1000.0|     0.0|  2000.0|                         1|\n",
            "|  3|  90000.0|  2|        2|       2| 34|    0|    0|    0|    0|    0|    0|  29239.0|  14027.0|  13559.0|  14331.0|  14948.0|  15549.0|  1518.0|  1500.0|  1000.0|  1000.0|  1000.0|  5000.0|                         0|\n",
            "|  4|  50000.0|  2|        2|       1| 37|    0|    0|    0|    0|    0|    0|  46990.0|  48233.0|  49291.0|  28314.0|  28959.0|  29547.0|  2000.0|  2019.0|  1200.0|  1100.0|  1069.0|  1000.0|                         0|\n",
            "|  5|  50000.0|  1|        2|       1| 57|   -1|    0|   -1|    0|    0|    0|   8617.0|   5670.0|  35835.0|  20940.0|  19146.0|  19131.0|  2000.0| 36681.0| 10000.0|  9000.0|   689.0|   679.0|                         0|\n",
            "|  6|  50000.0|  1|        1|       2| 37|    0|    0|    0|    0|    0|    0|  64400.0|  57069.0|  57608.0|  19394.0|  19619.0|  20024.0|  2500.0|  1815.0|   657.0|  1000.0|  1000.0|   800.0|                         0|\n",
            "|  7| 500000.0|  1|        1|       2| 29|    0|    0|    0|    0|    0|    0| 367965.0| 412023.0| 445007.0| 542653.0| 483003.0| 473944.0| 55000.0| 40000.0| 38000.0| 20239.0| 13750.0| 13770.0|                         0|\n",
            "|  8| 100000.0|  2|        2|       2| 23|    0|   -1|   -1|    0|    0|   -1|  11876.0|    380.0|    601.0|    221.0|   -159.0|    567.0|   380.0|   601.0|     0.0|   581.0|  1687.0|  1542.0|                         0|\n",
            "|  9| 140000.0|  2|        3|       1| 28|    0|    0|    2|    0|    0|    0|  11285.0|  14096.0|  12108.0|  12211.0|  11793.0|   3719.0|  3329.0|     0.0|   432.0|  1000.0|  1000.0|  1000.0|                         0|\n",
            "| 10|  20000.0|  1|        3|       2| 35|   -2|   -2|   -2|   -2|   -1|   -1|      0.0|      0.0|      0.0|      0.0|  13007.0|  13912.0|     0.0|     0.0|     0.0| 13007.0|  1122.0|     0.0|                         0|\n",
            "| 11| 200000.0|  2|        3|       2| 34|    0|    0|    2|    0|    0|   -1|  11073.0|   9787.0|   5535.0|   2513.0|   1828.0|   3731.0|  2306.0|    12.0|    50.0|   300.0|  3738.0|    66.0|                         0|\n",
            "| 12| 260000.0|  2|        1|       2| 51|   -1|   -1|   -1|   -1|   -1|    2|  12261.0|  21670.0|   9966.0|   8517.0|  22287.0|  13668.0| 21818.0|  9966.0|  8583.0| 22301.0|     0.0|  3640.0|                         0|\n",
            "| 13| 630000.0|  2|        2|       2| 41|   -1|    0|   -1|   -1|   -1|   -1|  12137.0|   6500.0|   6500.0|   6500.0|   6500.0|   2870.0|  1000.0|  6500.0|  6500.0|  6500.0|  2870.0|     0.0|                         0|\n",
            "| 14|  70000.0|  1|        2|       2| 30|    1|    2|    2|    0|    0|    2|  65802.0|  67369.0|  65701.0|  66782.0|  36137.0|  36894.0|  3200.0|     0.0|  3000.0|  3000.0|  1500.0|     0.0|                         1|\n",
            "| 15| 250000.0|  1|        1|       2| 29|    0|    0|    0|    0|    0|    0|  70887.0|  67060.0|  63561.0|  59696.0|  56875.0|  55512.0|  3000.0|  3000.0|  3000.0|  3000.0|  3000.0|  3000.0|                         0|\n",
            "| 16|  50000.0|  2|        3|       3| 23|    1|    2|    0|    0|    0|    0|  50614.0|  29173.0|  28116.0|  28771.0|  29531.0|  30211.0|     0.0|  1500.0|  1100.0|  1200.0|  1300.0|  1100.0|                         0|\n",
            "| 17|  20000.0|  1|        1|       2| 24|    0|    0|    2|    2|    2|    2|  15376.0|  18010.0|  17428.0|  18338.0|  17905.0|  19104.0|  3200.0|     0.0|  1500.0|     0.0|  1650.0|     0.0|                         1|\n",
            "| 18| 320000.0|  1|        1|       1| 49|    0|    0|    0|   -1|   -1|   -1| 253286.0| 246536.0| 194663.0|  70074.0|   5856.0| 195599.0| 10358.0| 10000.0| 75940.0| 20000.0|195599.0| 50000.0|                         0|\n",
            "| 19| 360000.0|  2|        1|       1| 49|    1|   -2|   -2|   -2|   -2|   -2|      0.0|      0.0|      0.0|      0.0|      0.0|      0.0|     0.0|     0.0|     0.0|     0.0|     0.0|     0.0|                         0|\n",
            "| 20| 180000.0|  2|        1|       2| 29|    1|   -2|   -2|   -2|   -2|   -2|      0.0|      0.0|      0.0|      0.0|      0.0|      0.0|     0.0|     0.0|     0.0|     0.0|     0.0|     0.0|                         0|\n",
            "+---+---------+---+---------+--------+---+-----+-----+-----+-----+-----+-----+---------+---------+---------+---------+---------+---------+--------+--------+--------+--------+--------+--------+--------------------------+\n",
            "only showing top 20 rows\n",
            "\n"
          ]
        }
      ]
    },
    {
      "cell_type": "code",
      "source": [
        "df = df.withColumnRenamed(\"default.payment.next.month\", \"default_payment_next_month\")"
      ],
      "metadata": {
        "id": "tHFII2SZa61M"
      },
      "execution_count": null,
      "outputs": []
    },
    {
      "cell_type": "code",
      "source": [
        "## no need of strngindexer as there are no catergorcal varivale"
      ],
      "metadata": {
        "id": "jx5_uH8tXQen"
      },
      "execution_count": null,
      "outputs": []
    },
    {
      "cell_type": "code",
      "source": [
        "cols = df.columns\n",
        "cols"
      ],
      "metadata": {
        "colab": {
          "base_uri": "https://localhost:8080/"
        },
        "id": "ctEpLkX0YjlI",
        "outputId": "fee22a41-47b2-4da9-cb99-9970a33e6364"
      },
      "execution_count": null,
      "outputs": [
        {
          "output_type": "execute_result",
          "data": {
            "text/plain": [
              "['ID',\n",
              " 'LIMIT_BAL',\n",
              " 'SEX',\n",
              " 'EDUCATION',\n",
              " 'MARRIAGE',\n",
              " 'AGE',\n",
              " 'PAY_0',\n",
              " 'PAY_2',\n",
              " 'PAY_3',\n",
              " 'PAY_4',\n",
              " 'PAY_5',\n",
              " 'PAY_6',\n",
              " 'BILL_AMT1',\n",
              " 'BILL_AMT2',\n",
              " 'BILL_AMT3',\n",
              " 'BILL_AMT4',\n",
              " 'BILL_AMT5',\n",
              " 'BILL_AMT6',\n",
              " 'PAY_AMT1',\n",
              " 'PAY_AMT2',\n",
              " 'PAY_AMT3',\n",
              " 'PAY_AMT4',\n",
              " 'PAY_AMT5',\n",
              " 'PAY_AMT6',\n",
              " 'default_payment_next_month']"
            ]
          },
          "metadata": {},
          "execution_count": 22
        }
      ]
    },
    {
      "cell_type": "code",
      "source": [
        "cols.remove(\"default_payment_next_month\")"
      ],
      "metadata": {
        "id": "0jTRtti2Yp3u"
      },
      "execution_count": null,
      "outputs": []
    },
    {
      "cell_type": "code",
      "source": [
        "df.head(1)"
      ],
      "metadata": {
        "colab": {
          "base_uri": "https://localhost:8080/"
        },
        "id": "lcpmlOr_aVor",
        "outputId": "0ae5ee18-d76e-4170-ce5c-e1e06eff1ea8"
      },
      "execution_count": null,
      "outputs": [
        {
          "output_type": "execute_result",
          "data": {
            "text/plain": [
              "[Row(ID=1, LIMIT_BAL=20000.0, SEX=2, EDUCATION=2, MARRIAGE=1, AGE=24, PAY_0=2, PAY_2=2, PAY_3=-1, PAY_4=-1, PAY_5=-2, PAY_6=-2, BILL_AMT1=3913.0, BILL_AMT2=3102.0, BILL_AMT3=689.0, BILL_AMT4=0.0, BILL_AMT5=0.0, BILL_AMT6=0.0, PAY_AMT1=0.0, PAY_AMT2=689.0, PAY_AMT3=0.0, PAY_AMT4=0.0, PAY_AMT5=0.0, PAY_AMT6=0.0, default_payment_next_month=1)]"
            ]
          },
          "metadata": {},
          "execution_count": 24
        }
      ]
    },
    {
      "cell_type": "code",
      "source": [
        "# Create VectorAssembler\n",
        "##creating new vector /array column for all combined independent features\n",
        "\n",
        "\n",
        "assembler = VectorAssembler(inputCols= cols, outputCol= \"vectorized_features\")\n"
      ],
      "metadata": {
        "id": "qwOrPe4dYvWQ"
      },
      "execution_count": null,
      "outputs": []
    },
    {
      "cell_type": "code",
      "source": [
        "df_vector= assembler.transform(df)"
      ],
      "metadata": {
        "id": "qZbXuZQkZcYw"
      },
      "execution_count": null,
      "outputs": []
    },
    {
      "cell_type": "code",
      "source": [
        "df_vector=df_vector.select(\"default_payment_next_month\",\"vectorized_features\")\n",
        "df_vector.show()"
      ],
      "metadata": {
        "colab": {
          "base_uri": "https://localhost:8080/"
        },
        "id": "F6Ntmk6oZpb_",
        "outputId": "888b6a27-c8de-4fb9-8d15-a6d2b12f21be"
      },
      "execution_count": null,
      "outputs": [
        {
          "output_type": "stream",
          "name": "stdout",
          "text": [
            "+--------------------------+--------------------+\n",
            "|default_payment_next_month| vectorized_features|\n",
            "+--------------------------+--------------------+\n",
            "|                         1|[1.0,20000.0,2.0,...|\n",
            "|                         1|[2.0,120000.0,2.0...|\n",
            "|                         0|[3.0,90000.0,2.0,...|\n",
            "|                         0|[4.0,50000.0,2.0,...|\n",
            "|                         0|[5.0,50000.0,1.0,...|\n",
            "|                         0|[6.0,50000.0,1.0,...|\n",
            "|                         0|[7.0,500000.0,1.0...|\n",
            "|                         0|[8.0,100000.0,2.0...|\n",
            "|                         0|[9.0,140000.0,2.0...|\n",
            "|                         0|[10.0,20000.0,1.0...|\n",
            "|                         0|[11.0,200000.0,2....|\n",
            "|                         0|[12.0,260000.0,2....|\n",
            "|                         0|[13.0,630000.0,2....|\n",
            "|                         1|[14.0,70000.0,1.0...|\n",
            "|                         0|[15.0,250000.0,1....|\n",
            "|                         0|[16.0,50000.0,2.0...|\n",
            "|                         1|[17.0,20000.0,1.0...|\n",
            "|                         0|[18.0,320000.0,1....|\n",
            "|                         0|(24,[0,1,2,3,4,5,...|\n",
            "|                         0|(24,[0,1,2,3,4,5,...|\n",
            "+--------------------------+--------------------+\n",
            "only showing top 20 rows\n",
            "\n"
          ]
        }
      ]
    },
    {
      "cell_type": "code",
      "source": [
        "## feature scaling using standard scaler\n",
        "\n",
        "scaler = StandardScaler(inputCol= \"vectorized_features\", outputCol= \"scaledFeatures\")\n",
        "scaled_df= scaler.fit(df_vector).transform(df_vector)\n",
        "scaled_df=scaled_df.select(\"default_payment_next_month\", \"scaledFeatures\")\n",
        "scaled_df.show()"
      ],
      "metadata": {
        "colab": {
          "base_uri": "https://localhost:8080/"
        },
        "id": "LYf_MUqsbJDr",
        "outputId": "e0de17fb-eb9a-4aa2-c827-d1e226c5c47f"
      },
      "execution_count": null,
      "outputs": [
        {
          "output_type": "stream",
          "name": "stdout",
          "text": [
            "+--------------------------+--------------------+\n",
            "|default_payment_next_month|      scaledFeatures|\n",
            "+--------------------------+--------------------+\n",
            "|                         1|[1.15468129385139...|\n",
            "|                         1|[2.30936258770278...|\n",
            "|                         0|[3.46404388155417...|\n",
            "|                         0|[4.61872517540556...|\n",
            "|                         0|[5.77340646925695...|\n",
            "|                         0|[6.92808776310834...|\n",
            "|                         0|[8.08276905695973...|\n",
            "|                         0|[9.23745035081112...|\n",
            "|                         0|[0.00103921316446...|\n",
            "|                         0|[0.00115468129385...|\n",
            "|                         0|[0.00127014942323...|\n",
            "|                         0|[0.00138561755262...|\n",
            "|                         0|[0.00150108568200...|\n",
            "|                         1|[0.00161655381139...|\n",
            "|                         0|[0.00173202194077...|\n",
            "|                         0|[0.00184749007016...|\n",
            "|                         1|[0.00196295819954...|\n",
            "|                         0|[0.00207842632893...|\n",
            "|                         0|(24,[0,1,2,3,4,5,...|\n",
            "|                         0|(24,[0,1,2,3,4,5,...|\n",
            "+--------------------------+--------------------+\n",
            "only showing top 20 rows\n",
            "\n"
          ]
        }
      ]
    },
    {
      "cell_type": "code",
      "source": [
        "from pyspark.sql.functions import rand\n",
        "\n",
        "# Perform stratified shuffling\n",
        "stratified_df = scaled_df.orderBy(rand())\n",
        "\n",
        "# Split the data into train and test sets\n",
        "train_df, test_df = stratified_df.randomSplit([0.7, 0.3], seed=42)"
      ],
      "metadata": {
        "id": "ttijpewcjccE"
      },
      "execution_count": null,
      "outputs": []
    },
    {
      "cell_type": "code",
      "source": [
        "test_df.show()"
      ],
      "metadata": {
        "colab": {
          "base_uri": "https://localhost:8080/"
        },
        "id": "v1N1a9-2jnGj",
        "outputId": "81177e7f-d6b3-4a60-eef9-a9750040053f"
      },
      "execution_count": null,
      "outputs": [
        {
          "output_type": "stream",
          "name": "stdout",
          "text": [
            "+--------------------------+--------------------+\n",
            "|default_payment_next_month|      scaledFeatures|\n",
            "+--------------------------+--------------------+\n",
            "|                         0|(24,[0,1,2,3,4,5,...|\n",
            "|                         0|(24,[0,1,2,3,4,5,...|\n",
            "|                         0|(24,[0,1,2,3,4,5,...|\n",
            "|                         0|(24,[0,1,2,3,4,5,...|\n",
            "|                         0|(24,[0,1,2,3,4,5,...|\n",
            "|                         0|(24,[0,1,2,3,4,5,...|\n",
            "|                         0|(24,[0,1,2,3,4,5,...|\n",
            "|                         0|(24,[0,1,2,3,4,5,...|\n",
            "|                         0|(24,[0,1,2,3,4,5,...|\n",
            "|                         0|(24,[0,1,2,3,4,5,...|\n",
            "|                         0|(24,[0,1,2,3,4,5,...|\n",
            "|                         0|(24,[0,1,2,3,4,5,...|\n",
            "|                         0|(24,[0,1,2,3,4,5,...|\n",
            "|                         0|(24,[0,1,2,3,4,5,...|\n",
            "|                         0|(24,[0,1,2,3,4,5,...|\n",
            "|                         0|(24,[0,1,2,3,4,5,...|\n",
            "|                         0|(24,[0,1,2,3,4,5,...|\n",
            "|                         0|(24,[0,1,2,3,4,5,...|\n",
            "|                         0|(24,[0,1,2,3,4,5,...|\n",
            "|                         0|(24,[0,1,2,3,4,5,...|\n",
            "+--------------------------+--------------------+\n",
            "only showing top 20 rows\n",
            "\n"
          ]
        }
      ]
    },
    {
      "cell_type": "code",
      "source": [
        "row_0 = test_df.select(\"scaledFeatures\").collect()[0]   ## this will give output in SparseVector\n",
        "# Row(scaledFeatures=SparseVector(24, {0: 0.0732, 1: 1.6185, 2: 4.0889, 3: 2.5305, 4: 1.9158, 5: 5.0988, 6: -1.7797, 7: -1.6706, 8: -1.671, 9: -1.7107, 10: -1.7649, 11: -1.7391}))\n",
        "# converting to array\n",
        "scaled_features = row_0.scaledFeatures.toArray()\n",
        "print(scaled_features)"
      ],
      "metadata": {
        "colab": {
          "base_uri": "https://localhost:8080/"
        },
        "id": "ZKQUDfpdW5jv",
        "outputId": "7175faa0-c82b-4c6f-efbc-4e7ed0b1f51f"
      },
      "execution_count": null,
      "outputs": [
        {
          "output_type": "stream",
          "name": "stdout",
          "text": [
            "[ 0.05831141  0.23121804  2.04444962  7.59158623  1.91582038  5.74968015\n",
            " -1.77967368 -1.67058422 -1.67102865 -1.71066113 -1.76493313 -1.73914915\n",
            "  0.          0.          0.          0.          0.          0.\n",
            "  0.          0.          0.          0.          0.          0.        ]\n"
          ]
        }
      ]
    },
    {
      "cell_type": "code",
      "source": [
        "scaled_features.ndim"
      ],
      "metadata": {
        "colab": {
          "base_uri": "https://localhost:8080/"
        },
        "id": "Bod8eYH-biOn",
        "outputId": "df1be2d6-782d-423b-960a-0e43e9f2e842"
      },
      "execution_count": null,
      "outputs": [
        {
          "output_type": "execute_result",
          "data": {
            "text/plain": [
              "1"
            ]
          },
          "metadata": {},
          "execution_count": 32
        }
      ]
    },
    {
      "cell_type": "code",
      "source": [
        "## building ML randomforest algorithm\n",
        "\n",
        "df= RandomForestClassifier(labelCol=\"default_payment_next_month\", featuresCol= \"scaledFeatures\")\n",
        "model= df.fit(train_df)"
      ],
      "metadata": {
        "id": "S-v1mZPSb-sy"
      },
      "execution_count": null,
      "outputs": []
    },
    {
      "cell_type": "markdown",
      "source": [
        "## Note: in spark we only have fit() for trainig model, and we use transfrom() for test data to make prediction  but in case of preprocesing feature scling like standarscaler() we use both fit and transform"
      ],
      "metadata": {
        "id": "QiZzh2U2pCsu"
      }
    },
    {
      "cell_type": "code",
      "source": [
        "prediction_df = model.transform(test_df)"
      ],
      "metadata": {
        "id": "d3VLBfCcnzlE"
      },
      "execution_count": null,
      "outputs": []
    },
    {
      "cell_type": "code",
      "source": [
        "prediction_df.show()"
      ],
      "metadata": {
        "colab": {
          "base_uri": "https://localhost:8080/"
        },
        "id": "p4x3sWlYpQjx",
        "outputId": "11db9a21-19df-402d-b483-40a775b3b17e"
      },
      "execution_count": null,
      "outputs": [
        {
          "output_type": "stream",
          "name": "stdout",
          "text": [
            "+--------------------------+--------------------+--------------------+--------------------+----------+\n",
            "|default_payment_next_month|      scaledFeatures|       rawPrediction|         probability|prediction|\n",
            "+--------------------------+--------------------+--------------------+--------------------+----------+\n",
            "|                         0|(24,[0,1,2,3,4,5,...|[15.6879231351588...|[0.78439615675794...|       0.0|\n",
            "|                         0|(24,[0,1,2,3,4,5,...|[15.6378998909407...|[0.78189499454703...|       0.0|\n",
            "|                         0|(24,[0,1,2,3,4,5,...|[15.6378998909407...|[0.78189499454703...|       0.0|\n",
            "|                         0|(24,[0,1,2,3,4,5,...|[15.8070289935361...|[0.79035144967680...|       0.0|\n",
            "|                         0|(24,[0,1,2,3,4,5,...|[15.6378998909407...|[0.78189499454703...|       0.0|\n",
            "|                         0|(24,[0,1,2,3,4,5,...|[15.6438296720789...|[0.78219148360394...|       0.0|\n",
            "|                         0|(24,[0,1,2,3,4,5,...|[15.6819933540206...|[0.78409966770103...|       0.0|\n",
            "|                         0|(24,[0,1,2,3,4,5,...|[15.6378998909407...|[0.78189499454703...|       0.0|\n",
            "|                         0|(24,[0,1,2,3,4,5,...|[15.6438296720789...|[0.78219148360394...|       0.0|\n",
            "|                         0|(24,[0,1,2,3,4,5,...|[15.8129587746743...|[0.79064793873371...|       0.0|\n",
            "|                         0|(24,[0,1,2,3,4,5,...|[15.6438296720789...|[0.78219148360394...|       0.0|\n",
            "|                         0|(24,[0,1,2,3,4,5,...|[15.6378998909407...|[0.78189499454703...|       0.0|\n",
            "|                         0|(24,[0,1,2,3,4,5,...|[15.6438296720789...|[0.78219148360394...|       0.0|\n",
            "|                         0|(24,[0,1,2,3,4,5,...|[15.5128642514252...|[0.77564321257126...|       0.0|\n",
            "|                         0|(24,[0,1,2,3,4,5,...|[15.5128642514252...|[0.77564321257126...|       0.0|\n",
            "|                         0|(24,[0,1,2,3,4,5,...|[15.6378998909407...|[0.78189499454703...|       0.0|\n",
            "|                         0|(24,[0,1,2,3,4,5,...|[15.6438296720789...|[0.78219148360394...|       0.0|\n",
            "|                         0|(24,[0,1,2,3,4,5,...|[15.6378998909407...|[0.78189499454703...|       0.0|\n",
            "|                         0|(24,[0,1,2,3,4,5,...|[15.6879231351588...|[0.78439615675794...|       0.0|\n",
            "|                         0|(24,[0,1,2,3,4,5,...|[15.6438296720789...|[0.78219148360394...|       0.0|\n",
            "+--------------------------+--------------------+--------------------+--------------------+----------+\n",
            "only showing top 20 rows\n",
            "\n"
          ]
        }
      ]
    },
    {
      "cell_type": "code",
      "source": [
        "# ## evaluation\n",
        "\n",
        "# eval = MulticlassClassificationEvaluator(labelCol=\"default_payment_next_month\", predictionCol=\"prediction\", metricName=\"accuracy\")\n",
        "# accuracy = eval.evaluate(prediction_df)  ## passing the predicted datafame\n",
        "# print(\"accuracy\", accuracy)"
      ],
      "metadata": {
        "id": "UAMka4shpU8U"
      },
      "execution_count": null,
      "outputs": []
    },
    {
      "cell_type": "code",
      "source": [
        "## Binary class evalution\n",
        "\n",
        "eval_binary = BinaryClassificationEvaluator(labelCol=\"default_payment_next_month\", rawPredictionCol=\"prediction\", metricName=\"areaUnderROC\")\n",
        "## here we can see y_test = \"default_payment_next_month\" and y_pred = \"prediction\" based on predcition dataframe\n",
        "accuracy_binary = eval_binary.evaluate(prediction_df)  ## passing the predicted datafame\n",
        "print(\"accuracy\", accuracy_binary)"
      ],
      "metadata": {
        "colab": {
          "base_uri": "https://localhost:8080/"
        },
        "id": "Y7CcFKtO2wAq",
        "outputId": "feb59829-cf6a-4331-cab7-604e789810fd"
      },
      "execution_count": null,
      "outputs": [
        {
          "output_type": "stream",
          "name": "stdout",
          "text": [
            "accuracy 0.6230306556986801\n"
          ]
        }
      ]
    },
    {
      "cell_type": "code",
      "source": [
        "from pyspark.sql.functions import udf\n",
        "from pyspark.ml.linalg import DenseVector\n",
        "\n",
        "# Assuming 'df' is your DataFrame with the 'probability' column\n",
        "\n",
        "# Define a UDF to extract the probability value from the dense vector\n",
        "extract_probability = udf(lambda x: float(DenseVector(x).values[1]), DoubleType())\n",
        "\n",
        "# Apply the UDF to the 'probability' column and create a new column 'probability_double'\n",
        "prediction_df = prediction_df.withColumn('probability_double', extract_probability('probability'))\n"
      ],
      "metadata": {
        "id": "nZsM8ibg7WAd"
      },
      "execution_count": null,
      "outputs": []
    },
    {
      "cell_type": "code",
      "source": [
        "prediction_df.printSchema"
      ],
      "metadata": {
        "colab": {
          "base_uri": "https://localhost:8080/"
        },
        "id": "p3ZRZO3J5ZtS",
        "outputId": "7309d448-3fa6-421e-b801-9f1d0bac8b3a"
      },
      "execution_count": null,
      "outputs": [
        {
          "output_type": "execute_result",
          "data": {
            "text/plain": [
              "<bound method DataFrame.printSchema of DataFrame[default_payment_next_month: int, scaledFeatures: vector, rawPrediction: vector, probability: vector, prediction: double, probability_double: double]>"
            ]
          },
          "metadata": {},
          "execution_count": 39
        }
      ]
    },
    {
      "cell_type": "code",
      "source": [
        "# Convert 'prediction', 'probability', and 'label' columns to RDD\n",
        "predictionAndLabels = prediction_df.select(\"prediction\", \"probability_double\", \"default_payment_next_month\").rdd\n",
        "\n",
        "# Instantiate BinaryClassificationMetrics\n",
        "binaryMetrics = BinaryClassificationMetrics(predictionAndLabels)\n"
      ],
      "metadata": {
        "id": "O8kFhcn-4ERr",
        "colab": {
          "base_uri": "https://localhost:8080/"
        },
        "outputId": "fc18b71f-604c-4aa1-fb6e-ab0dc7aece67"
      },
      "execution_count": null,
      "outputs": [
        {
          "output_type": "stream",
          "name": "stderr",
          "text": [
            "/usr/local/lib/python3.10/dist-packages/pyspark/sql/context.py:158: FutureWarning: Deprecated in 3.0.0. Use SparkSession.builder.getOrCreate() instead.\n",
            "  warnings.warn(\n"
          ]
        }
      ]
    },
    {
      "cell_type": "code",
      "source": [
        "# Calculate AUC\n",
        "auc = binaryMetrics.areaUnderROC\n",
        "\n",
        "# Print AUC\n",
        "print(\"Area Under ROC Curve (AUC):\", auc)"
      ],
      "metadata": {
        "id": "jlxSDLCC4i36"
      },
      "execution_count": null,
      "outputs": []
    },
    {
      "cell_type": "code",
      "source": [
        "# Get the metrics for binary classification\n",
        "metrics = binary_metrics.binaryMetrics()"
      ],
      "metadata": {
        "id": "h5ISjs_v9v-X"
      },
      "execution_count": null,
      "outputs": []
    },
    {
      "cell_type": "code",
      "source": [
        "# Calculate confusion matrix\n",
        "confusion_matrix = binaryMetrics.confusionMatrix().toArray()"
      ],
      "metadata": {
        "id": "9ycBAIxh8ril"
      },
      "execution_count": null,
      "outputs": []
    },
    {
      "cell_type": "code",
      "source": [
        "# Extract the 'label' and 'probability' columns as RDDs\n",
        "predictionAndLabels = prediction_df.select(\"probability\", \"default_payment_next_month\").rdd.map(lambda row: (float(row[\"probability\"][1]), float(row[\"default_payment_next_month\"])))\n",
        "\n",
        "\n",
        "# Calculate ROC curve and AUC for each class\n",
        "classes = prediction_df.select(\"default_payment_next_month\").distinct().rdd.flatMap(lambda x: x).collect()\n",
        "roc_auc_scores = {}\n",
        "for class_label in classes:\n",
        "    class_predictions = predictionAndLabels.map(lambda x: (1.0 if x[1] == class_label else 0.0, x[0]))\n",
        "    roc_auc_scores[class_label] = eval.evaluate(class_predictions)\n",
        "\n",
        "# Print the results\n",
        "for class_label, score in roc_auc_scores.items():\n",
        "    print(\"Class:\", class_label)\n",
        "    print(\"ROC AUC Score:\", score)\n",
        "    print()"
      ],
      "metadata": {
        "id": "LrJP6jHjxaPL"
      },
      "execution_count": null,
      "outputs": []
    },
    {
      "cell_type": "code",
      "source": [
        "# Extract the 'label' and 'probability' columns as RDDs\n",
        "labels_and_scores = prediction_df.select('prediction', 'probability','default_payment_next_month').rdd.map(lambda row: (float(row['probability']), float(row['prediction']), float(row['default_payment_next_month'])))\n",
        "\n",
        "# Instantiate BinaryClassificationMetrics\n",
        "metrics = BinaryClassificationMetrics(labels_and_scores)"
      ],
      "metadata": {
        "id": "EOtToc1IppMA"
      },
      "execution_count": null,
      "outputs": []
    },
    {
      "cell_type": "code",
      "source": [
        "\n",
        "# Calculate confusion matrix\n",
        "confusion_matrix = prediction_df.groupBy(\"default_payment_next_month\").pivot(\"prediction\").count().na.fill(0)\n",
        "\n",
        "# Print the results\n",
        "print(\"Accuracy:\", accuracy)\n",
        "\n",
        "print(\"Confusion Matrix:\")\n",
        "confusion_matrix.show()"
      ],
      "metadata": {
        "colab": {
          "base_uri": "https://localhost:8080/",
          "height": 245
        },
        "id": "AClMrgy9tdaM",
        "outputId": "2736312d-1237-4ba8-871f-c3e18db6ec16"
      },
      "execution_count": null,
      "outputs": [
        {
          "output_type": "error",
          "ename": "NameError",
          "evalue": "ignored",
          "traceback": [
            "\u001b[0;31m---------------------------------------------------------------------------\u001b[0m",
            "\u001b[0;31mNameError\u001b[0m                                 Traceback (most recent call last)",
            "\u001b[0;32m<ipython-input-46-44b3fe946d32>\u001b[0m in \u001b[0;36m<cell line: 5>\u001b[0;34m()\u001b[0m\n\u001b[1;32m      3\u001b[0m \u001b[0;34m\u001b[0m\u001b[0m\n\u001b[1;32m      4\u001b[0m \u001b[0;31m# Print the results\u001b[0m\u001b[0;34m\u001b[0m\u001b[0;34m\u001b[0m\u001b[0m\n\u001b[0;32m----> 5\u001b[0;31m \u001b[0mprint\u001b[0m\u001b[0;34m(\u001b[0m\u001b[0;34m\"Accuracy:\"\u001b[0m\u001b[0;34m,\u001b[0m \u001b[0maccuracy\u001b[0m\u001b[0;34m)\u001b[0m\u001b[0;34m\u001b[0m\u001b[0;34m\u001b[0m\u001b[0m\n\u001b[0m\u001b[1;32m      6\u001b[0m \u001b[0;34m\u001b[0m\u001b[0m\n\u001b[1;32m      7\u001b[0m \u001b[0mprint\u001b[0m\u001b[0;34m(\u001b[0m\u001b[0;34m\"Confusion Matrix:\"\u001b[0m\u001b[0;34m)\u001b[0m\u001b[0;34m\u001b[0m\u001b[0;34m\u001b[0m\u001b[0m\n",
            "\u001b[0;31mNameError\u001b[0m: name 'accuracy' is not defined"
          ]
        }
      ]
    },
    {
      "cell_type": "code",
      "source": [
        "from pyspark.sql.functions import col\n",
        "\n",
        "# Assuming your label column is called \"label = default_payment_next_month \" converting that column to double\n",
        "prediction_df = prediction_df.withColumn(\"default_payment_next_month\", col(\"default_payment_next_month\").cast(\"double\"))\n"
      ],
      "metadata": {
        "id": "1GevWbmDv53h"
      },
      "execution_count": null,
      "outputs": []
    },
    {
      "cell_type": "code",
      "source": [
        "prediction_df.printSchema"
      ],
      "metadata": {
        "colab": {
          "base_uri": "https://localhost:8080/"
        },
        "id": "DcDySBS50Ptt",
        "outputId": "05374657-7e79-4943-93c8-86924606402f"
      },
      "execution_count": null,
      "outputs": [
        {
          "output_type": "execute_result",
          "data": {
            "text/plain": [
              "<bound method DataFrame.printSchema of DataFrame[default_payment_next_month: double, scaledFeatures: vector, rawPrediction: vector, probability: vector, prediction: double, probability_double: double]>"
            ]
          },
          "metadata": {},
          "execution_count": 48
        }
      ]
    },
    {
      "cell_type": "code",
      "source": [
        "# Convert predictions DataFrame to RDD\n",
        "predictionAndLabels = prediction_df.select(\"prediction\", \"default_payment_next_month\").rdd\n",
        "\n",
        "# Instantiate MulticlassMetrics\n",
        "metrics = MulticlassMetrics(predictionAndLabels)\n",
        "\n",
        "# Get confusion matrix\n",
        "confusion_matrix = metrics.confusionMatrix().toArray()\n",
        "\n",
        "# Get true positives (TP), true negatives (TN), false positives (FP), false negatives (FN)\n",
        "tn = confusion_matrix[0][0]\n",
        "fp = confusion_matrix[0][1]\n",
        "fn = confusion_matrix[1][0]\n",
        "tp = confusion_matrix[1][1]\n",
        "\n",
        "# Print the results\n",
        "print(\"Confusion Matrix:\")\n",
        "print(confusion_matrix)\n",
        "\n",
        "print(\"True Negatives (TN):\", tn)\n",
        "print(\"False Positives (FP):\", fp)\n",
        "print(\"False Negatives (FN):\", fn)\n",
        "print(\"True Positives (TP):\", tp)"
      ],
      "metadata": {
        "colab": {
          "base_uri": "https://localhost:8080/"
        },
        "id": "WKfxuDVcu2tR",
        "outputId": "59bd9a2f-b235-4065-b6fa-ff63f9d4602d"
      },
      "execution_count": null,
      "outputs": [
        {
          "output_type": "stream",
          "name": "stdout",
          "text": [
            "Confusion Matrix:\n",
            "[[6580.  294.]\n",
            " [1369.  556.]]\n",
            "True Negatives (TN): 6580.0\n",
            "False Positives (FP): 294.0\n",
            "False Negatives (FN): 1369.0\n",
            "True Positives (TP): 556.0\n"
          ]
        }
      ]
    },
    {
      "cell_type": "code",
      "source": [],
      "metadata": {
        "id": "zND-WUpvllTD"
      },
      "execution_count": null,
      "outputs": []
    },
    {
      "cell_type": "markdown",
      "source": [
        "# Save and Load in Parquet format:"
      ],
      "metadata": {
        "id": "ReZ1VZUOllkQ"
      }
    },
    {
      "cell_type": "code",
      "source": [
        "model.save(\"/content/drive/MyDrive/Machine Learning/credit_card_model.pkl\")"
      ],
      "metadata": {
        "id": "-RIOfIMKllkQ"
      },
      "execution_count": null,
      "outputs": []
    },
    {
      "cell_type": "code",
      "source": [
        "from pyspark.ml.classification import RandomForestClassificationModel\n",
        "\n",
        "loaded_model = RandomForestClassificationModel.load(\"/content/drive/MyDrive/Machine Learning/credit_card_model\")"
      ],
      "metadata": {
        "id": "Oplfi1cellkQ"
      },
      "execution_count": null,
      "outputs": []
    },
    {
      "cell_type": "code",
      "source": [
        "predc_df = loaded_model.transform(test_df)\n",
        "predc_df.show()"
      ],
      "metadata": {
        "colab": {
          "base_uri": "https://localhost:8080/"
        },
        "outputId": "09e39380-7cec-480c-e4e1-10f6ddba8f4e",
        "id": "6gerZIaDllkR"
      },
      "execution_count": null,
      "outputs": [
        {
          "output_type": "stream",
          "name": "stdout",
          "text": [
            "+--------------------------+--------------------+--------------------+--------------------+----------+\n",
            "|default_payment_next_month|      scaledFeatures|       rawPrediction|         probability|prediction|\n",
            "+--------------------------+--------------------+--------------------+--------------------+----------+\n",
            "|                         0|(24,[0,1,2,3,4,5,...|[16.1846322501604...|[0.80923161250802...|       0.0|\n",
            "|                         0|(24,[0,1,2,3,4,5,...|[16.2433734684691...|[0.81216867342345...|       0.0|\n",
            "|                         0|(24,[0,1,2,3,4,5,...|[16.1124084631669...|[0.80562042315834...|       0.0|\n",
            "|                         0|(24,[0,1,2,3,4,5,...|[16.0536672448581...|[0.80268336224290...|       0.0|\n",
            "|                         0|(24,[0,1,2,3,4,5,...|[16.1846322501604...|[0.80923161250802...|       0.0|\n",
            "|                         0|(24,[0,1,2,3,4,5,...|[16.0536672448581...|[0.80268336224290...|       0.0|\n",
            "|                         0|(24,[0,1,2,3,4,5,...|[16.0536672448581...|[0.80268336224290...|       0.0|\n",
            "|                         0|(24,[0,1,2,3,4,5,...|[16.0536672448581...|[0.80268336224290...|       0.0|\n",
            "|                         0|(24,[0,1,2,3,4,5,...|[16.0536672448581...|[0.80268336224290...|       0.0|\n",
            "|                         0|(24,[0,1,2,3,4,5,...|[16.1124084631669...|[0.80562042315834...|       0.0|\n",
            "|                         0|(24,[0,1,2,3,4,5,...|[16.0536672448581...|[0.80268336224290...|       0.0|\n",
            "|                         0|(24,[0,1,2,3,4,5,...|[16.1846322501604...|[0.80923161250802...|       0.0|\n",
            "|                         0|(24,[0,1,2,3,4,5,...|[16.0536672448581...|[0.80268336224290...|       0.0|\n",
            "|                         0|(24,[0,1,2,3,4,5,...|[16.0536672448581...|[0.80268336224290...|       0.0|\n",
            "|                         0|(24,[0,1,2,3,4,5,...|[16.1124084631669...|[0.80562042315834...|       0.0|\n",
            "|                         0|(24,[0,1,2,3,4,5,...|[16.0536672448581...|[0.80268336224290...|       0.0|\n",
            "|                         0|(24,[0,1,2,3,4,5,...|[16.0536672448581...|[0.80268336224290...|       0.0|\n",
            "|                         0|(24,[0,1,2,3,4,5,...|[16.1124084631669...|[0.80562042315834...|       0.0|\n",
            "|                         0|(24,[0,1,2,3,4,5,...|[16.1846322501604...|[0.80923161250802...|       0.0|\n",
            "|                         0|(24,[0,1,2,3,4,5,...|[16.1846322501604...|[0.80923161250802...|       0.0|\n",
            "+--------------------------+--------------------+--------------------+--------------------+----------+\n",
            "only showing top 20 rows\n",
            "\n"
          ]
        }
      ]
    },
    {
      "cell_type": "code",
      "source": [
        "predc_df.count()"
      ],
      "metadata": {
        "colab": {
          "base_uri": "https://localhost:8080/"
        },
        "outputId": "2316e73d-d1d0-4734-fec1-a02c6e132090",
        "id": "6nA_5d90llkR"
      },
      "execution_count": null,
      "outputs": [
        {
          "output_type": "execute_result",
          "data": {
            "text/plain": [
              "8799"
            ]
          },
          "metadata": {},
          "execution_count": 89
        }
      ]
    },
    {
      "cell_type": "markdown",
      "source": [
        "## To manually give a sample data from test_df using filter function ,inorder to test with model to test as:\n",
        "##sample input from user"
      ],
      "metadata": {
        "id": "oT6FnbXTllkR"
      }
    },
    {
      "cell_type": "code",
      "source": [
        "from pyspark.sql.functions import monotonically_increasing_id\n",
        "\n",
        "# Add a unique ID column to the DataFrame\n",
        "test_df_with_id = test_df.withColumn(\"row_id\", monotonically_increasing_id())\n",
        "\n",
        "# Filter out all rows except the third row\n",
        "filtered_df = test_df_with_id.filter(test_df_with_id.row_id == 2)\n",
        "\n",
        "# Remove the row_id column\n",
        "filtered_df = filtered_df.drop(\"row_id\")\n",
        "filtered_df.show()"
      ],
      "metadata": {
        "colab": {
          "base_uri": "https://localhost:8080/"
        },
        "outputId": "c9d4628d-3ee6-4df6-f583-66f60db626a7",
        "id": "oUSHAMbEllkS"
      },
      "execution_count": null,
      "outputs": [
        {
          "output_type": "stream",
          "name": "stdout",
          "text": [
            "+--------------------------+--------------------+\n",
            "|default_payment_next_month|      scaledFeatures|\n",
            "+--------------------------+--------------------+\n",
            "|                         0|(24,[0,1,2,3,4,5,...|\n",
            "+--------------------------+--------------------+\n",
            "\n"
          ]
        }
      ]
    },
    {
      "cell_type": "code",
      "source": [
        "predc_df_user = loaded_model.transform(filtered_df)\n",
        "predc_df_user.show()"
      ],
      "metadata": {
        "colab": {
          "base_uri": "https://localhost:8080/"
        },
        "outputId": "f6946875-938c-40ca-9169-54e96a5575cc",
        "id": "yATmoWxXllkS"
      },
      "execution_count": null,
      "outputs": [
        {
          "output_type": "stream",
          "name": "stdout",
          "text": [
            "+--------------------------+--------------------+--------------------+--------------------+----------+\n",
            "|default_payment_next_month|      scaledFeatures|       rawPrediction|         probability|prediction|\n",
            "+--------------------------+--------------------+--------------------+--------------------+----------+\n",
            "|                         0|(24,[0,1,2,3,4,5,...|[16.1124084631669...|[0.80562042315834...|       0.0|\n",
            "+--------------------------+--------------------+--------------------+--------------------+----------+\n",
            "\n"
          ]
        }
      ]
    },
    {
      "cell_type": "markdown",
      "source": [
        "## So we successfully loaded the model and tested it using a test_df"
      ],
      "metadata": {
        "id": "--8KQ9dvllkS"
      }
    },
    {
      "cell_type": "markdown",
      "source": [
        "\n",
        "# major issue faced was to convert the probability desne vector in prediction datafraem to double format inorder to calculrte roc and auc using \"BinaryClassificationMetrics\""
      ],
      "metadata": {
        "id": "P6F5ie7mqAA7"
      }
    }
  ]
}